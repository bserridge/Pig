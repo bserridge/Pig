{
  "nbformat": 4,
  "nbformat_minor": 0,
  "metadata": {
    "colab": {
      "provenance": [],
      "toc_visible": true,
      "authorship_tag": "ABX9TyOGKr3xBryI6yqvcGq8klZl",
      "include_colab_link": true
    },
    "kernelspec": {
      "name": "python3",
      "display_name": "Python 3"
    },
    "language_info": {
      "name": "python"
    }
  },
  "cells": [
    {
      "cell_type": "markdown",
      "metadata": {
        "id": "view-in-github",
        "colab_type": "text"
      },
      "source": [
        "<a href=\"https://colab.research.google.com/github/bserridge/Pig/blob/main/Pig.ipynb\" target=\"_parent\"><img src=\"https://colab.research.google.com/assets/colab-badge.svg\" alt=\"Open In Colab\"/></a>"
      ]
    },
    {
      "cell_type": "markdown",
      "source": [
        "# Part 1 - Introduction to the game of Pig"
      ],
      "metadata": {
        "id": "LLYcZNpIJ9HT"
      }
    },
    {
      "cell_type": "markdown",
      "source": [
        "This is part 1 in the Pig series. In this section, we introduce the basic game and the core functions that will be needed later."
      ],
      "metadata": {
        "id": "yxTBORacIrXM"
      }
    },
    {
      "cell_type": "markdown",
      "source": [
        "Here are the rules for the dice game \"Pig\", simplified to assume a one-player, one-die version of the game:\n",
        "\n",
        "Goal: Score at least 100 points in as few turns as possible.\n",
        "\n",
        "Playing the Game: The player starts off with a score of zero. A turn is a series of rolls of a standard, 6-sided die, with each roll of the die adding to the point total for that turn. A turn can end in one of two ways: (1) the player can choose to end the turn, in which case the player's score is increased by the points accumulated on that turn; or (2) the player chooses to roll the die and rolls a one, in which case the turn is over and is worth zero points. The game is over when the player ends a turn with a score of 100 or more points.\n",
        "\n",
        "Example: A player rolls a 5, then a 4. Her total is 9. She decides to end the turn rather than risking a roll of a 1, scoring 9 points for the first turn. She starts her second turn by rolling a 4, then another 4. At this point, she has accumulated 8 points on the second turn, but the score is still 9. She rolls again and gets a 1. Because of that, the second turn is worth zero points, and the player has now used two turns to earn a total of 9 points. On her third turn she rolls a one right away, so that turn is worth zero points. On her fourth turn she rolls a 3, then a 6, then a 2, and decides to end the turn. She now has 9 + (3 + 6 + 2) = 20 points total, and has taken four turns. The game continues in this manner, until reaching 100 points (or more)."
      ],
      "metadata": {
        "id": "WSgiFfAbsnuO"
      }
    },
    {
      "cell_type": "markdown",
      "source": [
        "To see how this game works in action, we're going to code a version of it in Python that prints out what's going on in the game. As for deciding whether to stop or not, we'll make a really simple function for making that decision. Later on, we'll evaluate how good that function is. For starters, we'll set up some global variables:"
      ],
      "metadata": {
        "id": "u5mK1IYixOyZ"
      }
    },
    {
      "cell_type": "markdown",
      "source": [
        "First, some really basic stuff that will come in handy:"
      ],
      "metadata": {
        "id": "zlnCckxwXfV1"
      }
    },
    {
      "cell_type": "code",
      "execution_count": null,
      "metadata": {
        "id": "rs65OA-osnEW"
      },
      "outputs": [],
      "source": [
        "import random # to randomize the rolls of the die\n",
        "import math # for basic functions\n",
        "\n",
        "# a function to roll the die and return the value rolled\n",
        "\n",
        "def RollTheDie():\n",
        "  roll = random.randint(1, 6)\n",
        "  return roll\n"
      ]
    },
    {
      "cell_type": "markdown",
      "source": [
        "We're going to need a function to decide whether to roll again or stop the turn. As input to that function we'll want to know the score as of the start of this turn, and the points accumulated thus far on this turn. For starters, we'll take a simple rule that says: if we've scored more than 20 points so far on this turn, stop:"
      ],
      "metadata": {
        "id": "fEukEr3Z6d4F"
      }
    },
    {
      "cell_type": "code",
      "source": [
        "# the RollAgain20 function makes a decision, as to whether to roll again or not (it's the player's choice)\n",
        "def RollAgain20(score, points, goal):\n",
        "\n",
        "  if ((points > 20) or ((score + points) >= goal)):\n",
        "    return False\n",
        "  else:\n",
        "    return True"
      ],
      "metadata": {
        "id": "BeNByE7W7EYN"
      },
      "execution_count": null,
      "outputs": []
    },
    {
      "cell_type": "markdown",
      "source": [
        "And now we define the function for taking a turn:"
      ],
      "metadata": {
        "id": "DxsLEQe9hA4N"
      }
    },
    {
      "cell_type": "code",
      "source": [
        "# the TakeATurn function keeps rolling until the turn is over, and returns the number of points earned on that turn\n",
        "# NOTE that the turn can end by rolling a 1 (0 points) or by making a decision to not RollAgain\n",
        "\n",
        "def TakeATurn(score, goal, RollAgainFunction):\n",
        "\n",
        "  points = 0\n",
        "\n",
        "  while RollAgainFunction(score, points, goal):\n",
        "      roll = RollTheDie()\n",
        "      if roll == 1:\n",
        "        return 0\n",
        "      else:\n",
        "        points += roll\n",
        "  # end while\n",
        "\n",
        "  # if we get this far, it's because we've decided not to roll again, the turn is over\n",
        "  return points\n"
      ],
      "metadata": {
        "id": "DTOLPji6hEM_"
      },
      "execution_count": null,
      "outputs": []
    },
    {
      "cell_type": "markdown",
      "source": [
        "And finally, we can combine all three to play a whole game. We'll define it as a function too, because later we may want to play lots of games."
      ],
      "metadata": {
        "id": "WEEgMQByjIMx"
      }
    },
    {
      "cell_type": "code",
      "source": [
        "def PlayPig(goal, RollAgainFunction):\n",
        "\n",
        "  score = 0\n",
        "  turns = 0\n",
        "\n",
        "  while score < goal:\n",
        "    turns += 1\n",
        "    points = TakeATurn(score, goal, RollAgainFunction)\n",
        "    score += points\n",
        "  # end while\n",
        "\n",
        "  return turns"
      ],
      "metadata": {
        "id": "d_J4C3bEjR2z"
      },
      "execution_count": null,
      "outputs": []
    },
    {
      "cell_type": "markdown",
      "source": [
        "And finally, at the global level, we'll run our game:"
      ],
      "metadata": {
        "id": "fNALO3hPj52k"
      }
    },
    {
      "cell_type": "code",
      "source": [
        "goal = 30\n",
        "turns = PlayPig(goal, RollAgain20)\n",
        "print(f'It took us {turns} turns to get to {goal} points')"
      ],
      "metadata": {
        "colab": {
          "base_uri": "https://localhost:8080/"
        },
        "id": "L1XESeSaj9mU",
        "outputId": "70fd0933-7861-4067-ab98-8ebb2a47c2b1"
      },
      "execution_count": null,
      "outputs": [
        {
          "output_type": "stream",
          "name": "stdout",
          "text": [
            "It took us 5 turns to get to 30 points\n"
          ]
        }
      ]
    },
    {
      "cell_type": "markdown",
      "source": [
        "# Part 2 - Simulations & statistics"
      ],
      "metadata": {
        "id": "Si_G71-DJ6gb"
      }
    },
    {
      "cell_type": "markdown",
      "source": [
        "This is part 2 in the Pig series, in which we'll use the core game functions from Part 1 to do some basic simulations, and then look at the statistical distributions that arise. Some questions that guide us:"
      ],
      "metadata": {
        "id": "LX_JF4LfKUgl"
      }
    },
    {
      "cell_type": "markdown",
      "source": [
        "How many turns should we expect it to take, on average, to hit our goal?\n",
        "\n",
        "Is there a better decision function that we could be using instead?\n",
        "\n",
        "I bet the answer can be derived using statistics, but in the spirit of learning useful coding techniques, we can also run an experiment.\n",
        "\n",
        "For example, if we run the game 1000 times, what's the average value? Is the distribution a bell curve? If we change the goal, how does that change the number of turns required? Is the relationship linear?\n",
        "\n",
        "To explore those, we'll rely on some help from some Python libraries:"
      ],
      "metadata": {
        "id": "EquBbEVckMSc"
      }
    },
    {
      "cell_type": "code",
      "source": [
        "import numpy as np # see https://numpy.org/doc/stable/user/\n",
        "import pandas as pd # data frames, see https://pandas.pydata.org/docs/user_guide/index.html\n",
        "import matplotlib.pyplot as plt # data visualization, see https://matplotlib.org/stable/users/index.html"
      ],
      "metadata": {
        "id": "iQrYTvjAnqAQ"
      },
      "execution_count": null,
      "outputs": []
    },
    {
      "cell_type": "markdown",
      "source": [
        "Now, let's create a function that plays the game many times for each of the goals specified:"
      ],
      "metadata": {
        "id": "KiPG84RRon20"
      }
    },
    {
      "cell_type": "code",
      "source": [
        "def ExperimentPig(num_games, goals, RollAgainFunction):\n",
        "\n",
        "  pig_dict = {}\n",
        "\n",
        "  for goal in goals:\n",
        "    pig_dict[goal] = [] # create an empty list for the games played with this goal\n",
        "    for i in range(0, num_games):\n",
        "      turns = PlayPig(goal, RollAgainFunction)\n",
        "      pig_dict[goal].append(turns)\n",
        "    # end for\n",
        "  # end for\n",
        "\n",
        "  return pig_dict\n"
      ],
      "metadata": {
        "id": "XD686K9-o2KE"
      },
      "execution_count": null,
      "outputs": []
    },
    {
      "cell_type": "markdown",
      "source": [
        "To do numerical processing on the data, it's helpful to have it stored as a Pandas DataFrame, with the target scores being the headers of each column, and the number of turns needed in each game played populating the Series associated with each header. So we call ExperimentPig to run the experiment, and then create a DataFrame from the resulting dictionary:"
      ],
      "metadata": {
        "id": "Pz8mV3TlPDgY"
      }
    },
    {
      "cell_type": "code",
      "source": [
        "# np.arange defines the goals that we want to play for: 25, 50, 75, 100\n",
        "# 100 is how many games we're going to play with each goal\n",
        "# the result is a dictionary mapping the goals to a list representing the number of turns that each experiment took\n",
        "\n",
        "goals = np.arange(10, 101, 10)\n",
        "pig_dict = ExperimentPig(10_000, goals, RollAgain20)\n",
        "\n",
        "pig_df = pd.DataFrame(pig_dict) # convert the dictionary into a DataFrame\n",
        "pig_df.head() # print out just the first 5 rows\n"
      ],
      "metadata": {
        "colab": {
          "base_uri": "https://localhost:8080/",
          "height": 206
        },
        "id": "CdOZrbawPe_A",
        "outputId": "e373e55f-aa45-465a-9872-c7cd9378120f"
      },
      "execution_count": null,
      "outputs": [
        {
          "output_type": "execute_result",
          "data": {
            "text/plain": [
              "   10   20   30   40   50   60   70   80   90   100\n",
              "0    3    1    4    3    8    4   11   14   10   10\n",
              "1    1    3   11    2   10    7    5   11   16   14\n",
              "2    1    2   16    8    5    6    8   10    8   30\n",
              "3    3    1    4    5    6    5   11   10   10    7\n",
              "4    2    2    5    3    3   12   16    6    5   11"
            ],
            "text/html": [
              "\n",
              "  <div id=\"df-a7b98664-28af-4659-aa00-6600e6373061\" class=\"colab-df-container\">\n",
              "    <div>\n",
              "<style scoped>\n",
              "    .dataframe tbody tr th:only-of-type {\n",
              "        vertical-align: middle;\n",
              "    }\n",
              "\n",
              "    .dataframe tbody tr th {\n",
              "        vertical-align: top;\n",
              "    }\n",
              "\n",
              "    .dataframe thead th {\n",
              "        text-align: right;\n",
              "    }\n",
              "</style>\n",
              "<table border=\"1\" class=\"dataframe\">\n",
              "  <thead>\n",
              "    <tr style=\"text-align: right;\">\n",
              "      <th></th>\n",
              "      <th>10</th>\n",
              "      <th>20</th>\n",
              "      <th>30</th>\n",
              "      <th>40</th>\n",
              "      <th>50</th>\n",
              "      <th>60</th>\n",
              "      <th>70</th>\n",
              "      <th>80</th>\n",
              "      <th>90</th>\n",
              "      <th>100</th>\n",
              "    </tr>\n",
              "  </thead>\n",
              "  <tbody>\n",
              "    <tr>\n",
              "      <th>0</th>\n",
              "      <td>3</td>\n",
              "      <td>1</td>\n",
              "      <td>4</td>\n",
              "      <td>3</td>\n",
              "      <td>8</td>\n",
              "      <td>4</td>\n",
              "      <td>11</td>\n",
              "      <td>14</td>\n",
              "      <td>10</td>\n",
              "      <td>10</td>\n",
              "    </tr>\n",
              "    <tr>\n",
              "      <th>1</th>\n",
              "      <td>1</td>\n",
              "      <td>3</td>\n",
              "      <td>11</td>\n",
              "      <td>2</td>\n",
              "      <td>10</td>\n",
              "      <td>7</td>\n",
              "      <td>5</td>\n",
              "      <td>11</td>\n",
              "      <td>16</td>\n",
              "      <td>14</td>\n",
              "    </tr>\n",
              "    <tr>\n",
              "      <th>2</th>\n",
              "      <td>1</td>\n",
              "      <td>2</td>\n",
              "      <td>16</td>\n",
              "      <td>8</td>\n",
              "      <td>5</td>\n",
              "      <td>6</td>\n",
              "      <td>8</td>\n",
              "      <td>10</td>\n",
              "      <td>8</td>\n",
              "      <td>30</td>\n",
              "    </tr>\n",
              "    <tr>\n",
              "      <th>3</th>\n",
              "      <td>3</td>\n",
              "      <td>1</td>\n",
              "      <td>4</td>\n",
              "      <td>5</td>\n",
              "      <td>6</td>\n",
              "      <td>5</td>\n",
              "      <td>11</td>\n",
              "      <td>10</td>\n",
              "      <td>10</td>\n",
              "      <td>7</td>\n",
              "    </tr>\n",
              "    <tr>\n",
              "      <th>4</th>\n",
              "      <td>2</td>\n",
              "      <td>2</td>\n",
              "      <td>5</td>\n",
              "      <td>3</td>\n",
              "      <td>3</td>\n",
              "      <td>12</td>\n",
              "      <td>16</td>\n",
              "      <td>6</td>\n",
              "      <td>5</td>\n",
              "      <td>11</td>\n",
              "    </tr>\n",
              "  </tbody>\n",
              "</table>\n",
              "</div>\n",
              "    <div class=\"colab-df-buttons\">\n",
              "\n",
              "  <div class=\"colab-df-container\">\n",
              "    <button class=\"colab-df-convert\" onclick=\"convertToInteractive('df-a7b98664-28af-4659-aa00-6600e6373061')\"\n",
              "            title=\"Convert this dataframe to an interactive table.\"\n",
              "            style=\"display:none;\">\n",
              "\n",
              "  <svg xmlns=\"http://www.w3.org/2000/svg\" height=\"24px\" viewBox=\"0 -960 960 960\">\n",
              "    <path d=\"M120-120v-720h720v720H120Zm60-500h600v-160H180v160Zm220 220h160v-160H400v160Zm0 220h160v-160H400v160ZM180-400h160v-160H180v160Zm440 0h160v-160H620v160ZM180-180h160v-160H180v160Zm440 0h160v-160H620v160Z\"/>\n",
              "  </svg>\n",
              "    </button>\n",
              "\n",
              "  <style>\n",
              "    .colab-df-container {\n",
              "      display:flex;\n",
              "      gap: 12px;\n",
              "    }\n",
              "\n",
              "    .colab-df-convert {\n",
              "      background-color: #E8F0FE;\n",
              "      border: none;\n",
              "      border-radius: 50%;\n",
              "      cursor: pointer;\n",
              "      display: none;\n",
              "      fill: #1967D2;\n",
              "      height: 32px;\n",
              "      padding: 0 0 0 0;\n",
              "      width: 32px;\n",
              "    }\n",
              "\n",
              "    .colab-df-convert:hover {\n",
              "      background-color: #E2EBFA;\n",
              "      box-shadow: 0px 1px 2px rgba(60, 64, 67, 0.3), 0px 1px 3px 1px rgba(60, 64, 67, 0.15);\n",
              "      fill: #174EA6;\n",
              "    }\n",
              "\n",
              "    .colab-df-buttons div {\n",
              "      margin-bottom: 4px;\n",
              "    }\n",
              "\n",
              "    [theme=dark] .colab-df-convert {\n",
              "      background-color: #3B4455;\n",
              "      fill: #D2E3FC;\n",
              "    }\n",
              "\n",
              "    [theme=dark] .colab-df-convert:hover {\n",
              "      background-color: #434B5C;\n",
              "      box-shadow: 0px 1px 3px 1px rgba(0, 0, 0, 0.15);\n",
              "      filter: drop-shadow(0px 1px 2px rgba(0, 0, 0, 0.3));\n",
              "      fill: #FFFFFF;\n",
              "    }\n",
              "  </style>\n",
              "\n",
              "    <script>\n",
              "      const buttonEl =\n",
              "        document.querySelector('#df-a7b98664-28af-4659-aa00-6600e6373061 button.colab-df-convert');\n",
              "      buttonEl.style.display =\n",
              "        google.colab.kernel.accessAllowed ? 'block' : 'none';\n",
              "\n",
              "      async function convertToInteractive(key) {\n",
              "        const element = document.querySelector('#df-a7b98664-28af-4659-aa00-6600e6373061');\n",
              "        const dataTable =\n",
              "          await google.colab.kernel.invokeFunction('convertToInteractive',\n",
              "                                                    [key], {});\n",
              "        if (!dataTable) return;\n",
              "\n",
              "        const docLinkHtml = 'Like what you see? Visit the ' +\n",
              "          '<a target=\"_blank\" href=https://colab.research.google.com/notebooks/data_table.ipynb>data table notebook</a>'\n",
              "          + ' to learn more about interactive tables.';\n",
              "        element.innerHTML = '';\n",
              "        dataTable['output_type'] = 'display_data';\n",
              "        await google.colab.output.renderOutput(dataTable, element);\n",
              "        const docLink = document.createElement('div');\n",
              "        docLink.innerHTML = docLinkHtml;\n",
              "        element.appendChild(docLink);\n",
              "      }\n",
              "    </script>\n",
              "  </div>\n",
              "\n",
              "\n",
              "<div id=\"df-0442b196-5326-4904-be87-6b11fc7df61a\">\n",
              "  <button class=\"colab-df-quickchart\" onclick=\"quickchart('df-0442b196-5326-4904-be87-6b11fc7df61a')\"\n",
              "            title=\"Suggest charts\"\n",
              "            style=\"display:none;\">\n",
              "\n",
              "<svg xmlns=\"http://www.w3.org/2000/svg\" height=\"24px\"viewBox=\"0 0 24 24\"\n",
              "     width=\"24px\">\n",
              "    <g>\n",
              "        <path d=\"M19 3H5c-1.1 0-2 .9-2 2v14c0 1.1.9 2 2 2h14c1.1 0 2-.9 2-2V5c0-1.1-.9-2-2-2zM9 17H7v-7h2v7zm4 0h-2V7h2v10zm4 0h-2v-4h2v4z\"/>\n",
              "    </g>\n",
              "</svg>\n",
              "  </button>\n",
              "\n",
              "<style>\n",
              "  .colab-df-quickchart {\n",
              "      --bg-color: #E8F0FE;\n",
              "      --fill-color: #1967D2;\n",
              "      --hover-bg-color: #E2EBFA;\n",
              "      --hover-fill-color: #174EA6;\n",
              "      --disabled-fill-color: #AAA;\n",
              "      --disabled-bg-color: #DDD;\n",
              "  }\n",
              "\n",
              "  [theme=dark] .colab-df-quickchart {\n",
              "      --bg-color: #3B4455;\n",
              "      --fill-color: #D2E3FC;\n",
              "      --hover-bg-color: #434B5C;\n",
              "      --hover-fill-color: #FFFFFF;\n",
              "      --disabled-bg-color: #3B4455;\n",
              "      --disabled-fill-color: #666;\n",
              "  }\n",
              "\n",
              "  .colab-df-quickchart {\n",
              "    background-color: var(--bg-color);\n",
              "    border: none;\n",
              "    border-radius: 50%;\n",
              "    cursor: pointer;\n",
              "    display: none;\n",
              "    fill: var(--fill-color);\n",
              "    height: 32px;\n",
              "    padding: 0;\n",
              "    width: 32px;\n",
              "  }\n",
              "\n",
              "  .colab-df-quickchart:hover {\n",
              "    background-color: var(--hover-bg-color);\n",
              "    box-shadow: 0 1px 2px rgba(60, 64, 67, 0.3), 0 1px 3px 1px rgba(60, 64, 67, 0.15);\n",
              "    fill: var(--button-hover-fill-color);\n",
              "  }\n",
              "\n",
              "  .colab-df-quickchart-complete:disabled,\n",
              "  .colab-df-quickchart-complete:disabled:hover {\n",
              "    background-color: var(--disabled-bg-color);\n",
              "    fill: var(--disabled-fill-color);\n",
              "    box-shadow: none;\n",
              "  }\n",
              "\n",
              "  .colab-df-spinner {\n",
              "    border: 2px solid var(--fill-color);\n",
              "    border-color: transparent;\n",
              "    border-bottom-color: var(--fill-color);\n",
              "    animation:\n",
              "      spin 1s steps(1) infinite;\n",
              "  }\n",
              "\n",
              "  @keyframes spin {\n",
              "    0% {\n",
              "      border-color: transparent;\n",
              "      border-bottom-color: var(--fill-color);\n",
              "      border-left-color: var(--fill-color);\n",
              "    }\n",
              "    20% {\n",
              "      border-color: transparent;\n",
              "      border-left-color: var(--fill-color);\n",
              "      border-top-color: var(--fill-color);\n",
              "    }\n",
              "    30% {\n",
              "      border-color: transparent;\n",
              "      border-left-color: var(--fill-color);\n",
              "      border-top-color: var(--fill-color);\n",
              "      border-right-color: var(--fill-color);\n",
              "    }\n",
              "    40% {\n",
              "      border-color: transparent;\n",
              "      border-right-color: var(--fill-color);\n",
              "      border-top-color: var(--fill-color);\n",
              "    }\n",
              "    60% {\n",
              "      border-color: transparent;\n",
              "      border-right-color: var(--fill-color);\n",
              "    }\n",
              "    80% {\n",
              "      border-color: transparent;\n",
              "      border-right-color: var(--fill-color);\n",
              "      border-bottom-color: var(--fill-color);\n",
              "    }\n",
              "    90% {\n",
              "      border-color: transparent;\n",
              "      border-bottom-color: var(--fill-color);\n",
              "    }\n",
              "  }\n",
              "</style>\n",
              "\n",
              "  <script>\n",
              "    async function quickchart(key) {\n",
              "      const quickchartButtonEl =\n",
              "        document.querySelector('#' + key + ' button');\n",
              "      quickchartButtonEl.disabled = true;  // To prevent multiple clicks.\n",
              "      quickchartButtonEl.classList.add('colab-df-spinner');\n",
              "      try {\n",
              "        const charts = await google.colab.kernel.invokeFunction(\n",
              "            'suggestCharts', [key], {});\n",
              "      } catch (error) {\n",
              "        console.error('Error during call to suggestCharts:', error);\n",
              "      }\n",
              "      quickchartButtonEl.classList.remove('colab-df-spinner');\n",
              "      quickchartButtonEl.classList.add('colab-df-quickchart-complete');\n",
              "    }\n",
              "    (() => {\n",
              "      let quickchartButtonEl =\n",
              "        document.querySelector('#df-0442b196-5326-4904-be87-6b11fc7df61a button');\n",
              "      quickchartButtonEl.style.display =\n",
              "        google.colab.kernel.accessAllowed ? 'block' : 'none';\n",
              "    })();\n",
              "  </script>\n",
              "</div>\n",
              "\n",
              "    </div>\n",
              "  </div>\n"
            ],
            "application/vnd.google.colaboratory.intrinsic+json": {
              "type": "dataframe",
              "variable_name": "pig_df",
              "summary": "{\n  \"name\": \"pig_df\",\n  \"rows\": 10000,\n  \"fields\": [\n    {\n      \"column\": 10,\n      \"properties\": {\n        \"dtype\": \"number\",\n        \"std\": 1,\n        \"min\": 1,\n        \"max\": 11,\n        \"num_unique_values\": 10,\n        \"samples\": [\n          9,\n          1,\n          7\n        ],\n        \"semantic_type\": \"\",\n        \"description\": \"\"\n      }\n    },\n    {\n      \"column\": 20,\n      \"properties\": {\n        \"dtype\": \"number\",\n        \"std\": 2,\n        \"min\": 1,\n        \"max\": 24,\n        \"num_unique_values\": 18,\n        \"samples\": [\n          1,\n          3,\n          8\n        ],\n        \"semantic_type\": \"\",\n        \"description\": \"\"\n      }\n    },\n    {\n      \"column\": 30,\n      \"properties\": {\n        \"dtype\": \"number\",\n        \"std\": 2,\n        \"min\": 2,\n        \"max\": 20,\n        \"num_unique_values\": 18,\n        \"samples\": [\n          4,\n          11,\n          10\n        ],\n        \"semantic_type\": \"\",\n        \"description\": \"\"\n      }\n    },\n    {\n      \"column\": 40,\n      \"properties\": {\n        \"dtype\": \"number\",\n        \"std\": 2,\n        \"min\": 2,\n        \"max\": 25,\n        \"num_unique_values\": 24,\n        \"samples\": [\n          7,\n          17,\n          3\n        ],\n        \"semantic_type\": \"\",\n        \"description\": \"\"\n      }\n    },\n    {\n      \"column\": 50,\n      \"properties\": {\n        \"dtype\": \"number\",\n        \"std\": 3,\n        \"min\": 2,\n        \"max\": 45,\n        \"num_unique_values\": 28,\n        \"samples\": [\n          14,\n          22,\n          7\n        ],\n        \"semantic_type\": \"\",\n        \"description\": \"\"\n      }\n    },\n    {\n      \"column\": 60,\n      \"properties\": {\n        \"dtype\": \"number\",\n        \"std\": 3,\n        \"min\": 3,\n        \"max\": 33,\n        \"num_unique_values\": 28,\n        \"samples\": [\n          16,\n          27,\n          8\n        ],\n        \"semantic_type\": \"\",\n        \"description\": \"\"\n      }\n    },\n    {\n      \"column\": 70,\n      \"properties\": {\n        \"dtype\": \"number\",\n        \"std\": 3,\n        \"min\": 3,\n        \"max\": 34,\n        \"num_unique_values\": 30,\n        \"samples\": [\n          29,\n          18,\n          24\n        ],\n        \"semantic_type\": \"\",\n        \"description\": \"\"\n      }\n    },\n    {\n      \"column\": 80,\n      \"properties\": {\n        \"dtype\": \"number\",\n        \"std\": 4,\n        \"min\": 4,\n        \"max\": 35,\n        \"num_unique_values\": 29,\n        \"samples\": [\n          35,\n          16,\n          21\n        ],\n        \"semantic_type\": \"\",\n        \"description\": \"\"\n      }\n    },\n    {\n      \"column\": 90,\n      \"properties\": {\n        \"dtype\": \"number\",\n        \"std\": 4,\n        \"min\": 4,\n        \"max\": 35,\n        \"num_unique_values\": 31,\n        \"samples\": [\n          32,\n          19,\n          33\n        ],\n        \"semantic_type\": \"\",\n        \"description\": \"\"\n      }\n    },\n    {\n      \"column\": 100,\n      \"properties\": {\n        \"dtype\": \"number\",\n        \"std\": 4,\n        \"min\": 5,\n        \"max\": 45,\n        \"num_unique_values\": 35,\n        \"samples\": [\n          34,\n          23,\n          22\n        ],\n        \"semantic_type\": \"\",\n        \"description\": \"\"\n      }\n    }\n  ]\n}"
            }
          },
          "metadata": {},
          "execution_count": 9
        }
      ]
    },
    {
      "cell_type": "markdown",
      "source": [
        "Ok, so now we're ready to do some statistics:"
      ],
      "metadata": {
        "id": "gQKtodQxeXyP"
      }
    },
    {
      "cell_type": "code",
      "source": [
        "print('Average:')\n",
        "print(pig_df.mean())\n",
        "\n",
        "print()\n",
        "\n",
        "print('Median')\n",
        "print(pig_df.median())\n"
      ],
      "metadata": {
        "colab": {
          "base_uri": "https://localhost:8080/"
        },
        "id": "DgdHweRWl3N4",
        "outputId": "1b22e572-1088-4574-d09b-626cd36046eb"
      },
      "execution_count": null,
      "outputs": [
        {
          "output_type": "stream",
          "name": "stdout",
          "text": [
            "Average:\n",
            "10      1.6917\n",
            "20      2.6683\n",
            "30      4.2927\n",
            "40      5.1731\n",
            "50      6.8444\n",
            "60      7.6514\n",
            "70      9.1968\n",
            "80     10.2727\n",
            "90     11.4906\n",
            "100    12.8397\n",
            "dtype: float64\n",
            "\n",
            "Median\n",
            "10      1.0\n",
            "20      2.0\n",
            "30      4.0\n",
            "40      4.0\n",
            "50      6.0\n",
            "60      7.0\n",
            "70      8.0\n",
            "80     10.0\n",
            "90     11.0\n",
            "100    12.0\n",
            "dtype: float64\n"
          ]
        }
      ]
    },
    {
      "cell_type": "markdown",
      "source": [
        "As we'd expect, the higher the goal, the more turns it takes to reach it. Let's visualize that relationship:"
      ],
      "metadata": {
        "id": "Y-hlnEB7ll_E"
      }
    },
    {
      "cell_type": "code",
      "source": [
        "fig, ax = plt.subplots()  # Create a figure\n",
        "ax.plot(goals, pig_df.mean())  # Plot the data"
      ],
      "metadata": {
        "colab": {
          "base_uri": "https://localhost:8080/",
          "height": 447
        },
        "id": "qLmrIFgtNnUA",
        "outputId": "c379beec-0229-48d9-de56-16d3373221db"
      },
      "execution_count": null,
      "outputs": [
        {
          "output_type": "execute_result",
          "data": {
            "text/plain": [
              "[<matplotlib.lines.Line2D at 0x7edc111a8a30>]"
            ]
          },
          "metadata": {},
          "execution_count": 11
        },
        {
          "output_type": "display_data",
          "data": {
            "text/plain": [
              "<Figure size 640x480 with 1 Axes>"
            ],
            "image/png": "[encoded data removed]"
          },
          "metadata": {}
        }
      ]
    },
    {
      "cell_type": "markdown",
      "source": [
        "Hmmm, that's interesting. It doesn't look linear, the multiples of 20 seem to have an advantage as compared to the multiples of 10 that are in-between.\n",
        "\n",
        "Let's look at a boxplot to get a better idea of how wide the spread is:"
      ],
      "metadata": {
        "id": "yJ2xFdTSOSTd"
      }
    },
    {
      "cell_type": "code",
      "source": [
        "foo = plt.boxplot(pig_df,showmeans=True,labels=goals)\n",
        "# assigning to foo just to avoid printing out the result\n"
      ],
      "metadata": {
        "colab": {
          "base_uri": "https://localhost:8080/",
          "height": 430
        },
        "id": "5saoFPtXeb2e",
        "outputId": "2114fb99-5b6c-4972-c820-5b5a9f784d7f"
      },
      "execution_count": null,
      "outputs": [
        {
          "output_type": "display_data",
          "data": {
            "text/plain": [
              "<Figure size 640x480 with 1 Axes>"
            ],
            "image/png": "[encoded data removed]"
          },
          "metadata": {}
        }
      ]
    },
    {
      "cell_type": "markdown",
      "source": [
        "I'm having trouble understanding the data; maybe we can see a histogram for each goal?"
      ],
      "metadata": {
        "id": "s__ui2cpowg6"
      }
    },
    {
      "cell_type": "code",
      "source": [
        "for goal in goals:\n",
        "  print(f'Histogram for {goal}')\n",
        "  data = pig_df[goal]\n",
        "  # print(data)\n",
        "  plt.hist(data, bins = np.arange(0,max(data)+1), align = 'left')\n",
        "  plt.show()"
      ],
      "metadata": {
        "colab": {
          "base_uri": "https://localhost:8080/",
          "height": 1000
        },
        "id": "9bh0ayO1o1Hx",
        "outputId": "883bad0d-8844-49b9-bdf0-f3012936d462"
      },
      "execution_count": null,
      "outputs": [
        {
          "output_type": "stream",
          "name": "stdout",
          "text": [
            "Histogram for 10\n"
          ]
        },
        {
          "output_type": "display_data",
          "data": {
            "text/plain": [
              "<Figure size 640x480 with 1 Axes>"
            ],
            "image/png": "[encoded data removed]"
          },
          "metadata": {}
        },
        {
          "output_type": "stream",
          "name": "stdout",
          "text": [
            "Histogram for 20\n"
          ]
        },
        {
          "output_type": "display_data",
          "data": {
            "text/plain": [
              "<Figure size 640x480 with 1 Axes>"
            ],
            "image/png": "[encoded data removed]"
          },
          "metadata": {}
        },
        {
          "output_type": "stream",
          "name": "stdout",
          "text": [
            "Histogram for 30\n"
          ]
        },
        {
          "output_type": "display_data",
          "data": {
            "text/plain": [
              "<Figure size 640x480 with 1 Axes>"
            ],
            "image/png": "[encoded data removed]"
          },
          "metadata": {}
        },
        {
          "output_type": "stream",
          "name": "stdout",
          "text": [
            "Histogram for 40\n"
          ]
        },
        {
          "output_type": "display_data",
          "data": {
            "text/plain": [
              "<Figure size 640x480 with 1 Axes>"
            ],
            "image/png": "[encoded data removed]"
          },
          "metadata": {}
        },
        {
          "output_type": "stream",
          "name": "stdout",
          "text": [
            "Histogram for 50\n"
          ]
        },
        {
          "output_type": "display_data",
          "data": {
            "text/plain": [
              "<Figure size 640x480 with 1 Axes>"
            ],
            "image/png": "[encoded data removed]"
          },
          "metadata": {}
        },
        {
          "output_type": "stream",
          "name": "stdout",
          "text": [
            "Histogram for 60\n"
          ]
        },
        {
          "output_type": "display_data",
          "data": {
            "text/plain": [
              "<Figure size 640x480 with 1 Axes>"
            ],
            "image/png": "[encoded data removed]"
          },
          "metadata": {}
        },
        {
          "output_type": "stream",
          "name": "stdout",
          "text": [
            "Histogram for 70\n"
          ]
        },
        {
          "output_type": "display_data",
          "data": {
            "text/plain": [
              "<Figure size 640x480 with 1 Axes>"
            ],
            "image/png": "[encoded data removed]"
          },
          "metadata": {}
        },
        {
          "output_type": "stream",
          "name": "stdout",
          "text": [
            "Histogram for 80\n"
          ]
        },
        {
          "output_type": "display_data",
          "data": {
            "text/plain": [
              "<Figure size 640x480 with 1 Axes>"
            ],
            "image/png": "[encoded data removed]"
          },
          "metadata": {}
        },
        {
          "output_type": "stream",
          "name": "stdout",
          "text": [
            "Histogram for 90\n"
          ]
        },
        {
          "output_type": "display_data",
          "data": {
            "text/plain": [
              "<Figure size 640x480 with 1 Axes>"
            ],
            "image/png": "[encoded data removed]"
          },
          "metadata": {}
        },
        {
          "output_type": "stream",
          "name": "stdout",
          "text": [
            "Histogram for 100\n"
          ]
        },
        {
          "output_type": "display_data",
          "data": {
            "text/plain": [
              "<Figure size 640x480 with 1 Axes>"
            ],
            "image/png": "[encoded data removed]"
          },
          "metadata": {}
        }
      ]
    },
    {
      "cell_type": "markdown",
      "source": [
        "# Part 3 - Calculating expected value"
      ],
      "metadata": {
        "id": "-FHAi3fmLB0H"
      }
    },
    {
      "cell_type": "markdown",
      "source": [
        "This is part 3 in the Pig series. In this section, rather than run a simulation of games using a random number generator, we'll attempt to directly calculate the expected value of the number of turns needed to complete the game, and then compare those calculations to what we observed in the simulations."
      ],
      "metadata": {
        "id": "SgIGYT5aLP4W"
      }
    },
    {
      "cell_type": "markdown",
      "source": [
        "Can we calculate the expected number of turns remaining to reach our goal?\n",
        "\n",
        "The approach we're going to take is to calculate the probability of arriving at the goal, and then based on that, the expected number of \"failure\" turns that we might also see. It's an infinite sum, but it converges."
      ],
      "metadata": {
        "id": "JH42MizOQmpQ"
      }
    },
    {
      "cell_type": "code",
      "source": [
        "def ProbSuccess(starting_score, current_score, goal, RollAgainFunction):\n",
        "\n",
        "  # this should not happen, because if the starting_score is at or above the goal, the game is over\n",
        "  assert (starting_score < goal)\n",
        "\n",
        "  points = current_score - starting_score\n",
        "  if not RollAgainFunction(starting_score, points, goal):\n",
        "    return 1      # we've either hit our goal, or made a decision to stop rolling and book the turn\n",
        "  # end if\n",
        "\n",
        "  # if we haven't returned by now, then we're in a state where we are going to roll again\n",
        "  # the probability of success is the probability of success after each of the possible successful rolls\n",
        "  # it's recursive, we simulate the game, starting from a position that's a bit closer to the goal\n",
        "  # the tree to explore exhaustively would be rather large,\n",
        "  # but after at most 6 rolls (and usually 4 or 5) we're guaranteed to exceed 20 points\n",
        "\n",
        "  p = 0\n",
        "  for roll in range(2, 7): # rolls from 2..6\n",
        "    # each has a 1/6 chance of being rolled\n",
        "    p += (1/6) * ProbSuccess(starting_score, current_score + roll, goal, RollAgainFunction)\n",
        "  # end for\n",
        "\n",
        "  return p\n",
        "# end ProbSuccess\n",
        "\n",
        "def TurnsToSuccess(p):\n",
        "  # given the probability of success, how many turns are expected (being as there will be some failures)\n",
        "  # it's an infinite series, but decaying geometrically, so we'll calculate it until the difference is immaterial\n",
        "\n",
        "  ev = 0\n",
        "\n",
        "  prior_ev = -1 # initialized to ensure the while passes at least once\n",
        "  i = 1 # a counter of the number of turns\n",
        "  q = 1 - p # the odds of not success\n",
        "  while (ev - prior_ev > 0.0001):\n",
        "    prior_ev = ev\n",
        "    ev += p * q ** (i-1) * i\n",
        "    i += 1\n",
        "  # end while\n",
        "\n",
        "  return ev\n",
        "# end TurnsToSuccess\n"
      ],
      "metadata": {
        "id": "30frwFOSXDP7"
      },
      "execution_count": null,
      "outputs": []
    },
    {
      "cell_type": "markdown",
      "source": [
        "The hardest part to understand is the summation in ExpectedNumTurns(p).\n",
        "\n",
        "Let's take the base case, for example. Say we're at 99 points with a goal of 100, so we just need a single point to win. The expected number of turns is not 1, because we might roll a 1 and then we'd have to roll again. There's a 1/36 chance that we roll two 1s in a row and it takes us 3 rolls total to get the one point we need.\n",
        "\n",
        "p in this case is 5/6, we have a 5/6 probability of success.\n",
        "q is the probability of failure, which is 1/6.\n",
        "That's what we count the first time through the loop, with q^0 being one.\n",
        "So expanding out the loop, it goes:\n",
        "ev = (5/6 * 1) + (1/6 * 5/6 * 2) + (1/6^2 * 5/6 * 3) + ...\n",
        "The value in this case converges to 1.2.\n",
        "\n",
        "But when we're farther away from the goal, the probability of success is much lower. Specifically, at a distance of >20 from the goal (which is the case when starting the game to 100 at 0 points), the probability of success is closer to 35% (that you'll end a turn with 21 or more points) and the expected number of turns needed is around 2.8.\n",
        "\n",
        "Let's try it out for some small games:"
      ],
      "metadata": {
        "id": "UgRVCI5Wb7o_"
      }
    },
    {
      "cell_type": "code",
      "source": [
        "for goal in range(10,21):\n",
        "\n",
        "  p = ProbSuccess(0, 0, goal, RollAgain20)\n",
        "  nt = TurnsToSuccess(p)\n",
        "\n",
        "  print(f'Probability of Success for goal = {goal} is {p}. Expected # turns is {nt}')\n",
        "\n",
        "# end for\n"
      ],
      "metadata": {
        "id": "lcqk49WNckBm",
        "colab": {
          "base_uri": "https://localhost:8080/"
        },
        "outputId": "cf294d4e-b236-4c92-bdb9-9e57de93c9a0"
      },
      "execution_count": null,
      "outputs": [
        {
          "output_type": "stream",
          "name": "stdout",
          "text": [
            "Probability of Success for goal = 10 is 0.5904063786008229. Expected # turns is 1.6936899341562945\n",
            "Probability of Success for goal = 11 is 0.5636359739368997. Expected # turns is 1.7741283433057164\n",
            "Probability of Success for goal = 12 is 0.5378086419753085. Expected # turns is 1.8593199684820838\n",
            "Probability of Success for goal = 13 is 0.5136924154092362. Expected # turns is 1.9466000562403742\n",
            "Probability of Success for goal = 14 is 0.49234467878372185. Expected # turns is 2.0309969571088593\n",
            "Probability of Success for goal = 15 is 0.4704497932860843. Expected # turns is 2.12550537372555\n",
            "Probability of Success for goal = 16 is 0.4496480147843315. Expected # turns is 2.223878722311654\n",
            "Probability of Success for goal = 17 is 0.42965525056520837. Expected # turns is 2.3273424263765357\n",
            "Probability of Success for goal = 18 is 0.4106572573731137. Expected # turns is 2.434987715423487\n",
            "Probability of Success for goal = 19 is 0.392631692138097. Expected # turns is 2.5467475529039527\n",
            "Probability of Success for goal = 20 is 0.3754591657987433. Expected # turns is 2.663266834066198\n"
          ]
        }
      ]
    },
    {
      "cell_type": "markdown",
      "source": [
        "If you recall, up above we ran the simulations of the game, so you can compare the expected # turns we've calculated here to the averages that we observed previously. And indeed, they're close.\n",
        "\n",
        "But the code only works for games up to 20, and we need to make it work for goals above 20, especially since the standard game is to 100.\n",
        "\n",
        "My plan is to daisy chain the expected values.\n",
        "\n",
        "That is, we'll calculate the expected number of turns needed to either reach the goal or stop the turn due to having exceeded 20 points, and then separately calculate the expected number of turns needed to reach the goal from there.\n",
        "\n",
        "But unlike the die rolls, those interim outcomes are not evenly distributed: one is much more likely to stop on a 21 or 22 than with 26 points (which requires landing on 20 and then rolling a 6).\n",
        "\n",
        "So we need to count how many times each possibility occurs, and weigh the contribution to the expected value according to their proportion of the outcomes from that first round.\n",
        "\n",
        "The concept we're going to introduce here is that of a \"round\". A \"round\" is when you keep trying until you hit success, either the goal or a stop at 20+ points.\n",
        "\n",
        "Also, since we may land on different interim values after a successful round (e.g. after the 1st round, we might end up with 21, 22, 23... 26 points) ... we need to track those values and how many times each one occurred. To do that, we introduce a dictionary called end_values."
      ],
      "metadata": {
        "id": "QLAJBOrTevJK"
      }
    },
    {
      "cell_type": "code",
      "source": [
        "def ProbSuccessV2(starting_score, current_score, goal, end_values, RollAgainFunction):\n",
        "\n",
        "  # end_values stores a count of how many times a turn ends on each possible end value\n",
        "  # NOTE that a turn can end either by hitting the goal or by surpassing 20 points\n",
        "\n",
        "  # this should not happen, because if the starting_score is at or above the goal, the game is over\n",
        "  assert (starting_score < goal)\n",
        "\n",
        "  points = current_score - starting_score\n",
        "  if not RollAgainFunction(starting_score, points, goal):\n",
        "    # we've either hit our goal, or made a decision to stop rolling and book the turn\n",
        "    end_values[current_score] = end_values.get(current_score, 0) + 1\n",
        "    return 1\n",
        "  # end if\n",
        "\n",
        "  # if we haven't returned by now, then we're in a state where we are going to roll again\n",
        "  # the probability of success is the probability of success after each of the possible successful rolls\n",
        "  # it's recursive, we simulate the game, starting from a position that's a bit closer to the goal\n",
        "  # the tree to explore exhaustively would be rather large,\n",
        "  # but after at most 6 rolls (and usually 4 or 5) we're guaranteed to exceed 20 points\n",
        "\n",
        "  p = 0\n",
        "  for roll in range(2, 7): # rolls from 2..6\n",
        "    # each has a 1/6 chance of being rolled\n",
        "    p += (1/6) * ProbSuccessV2(starting_score, current_score + roll, goal, end_values, RollAgainFunction)\n",
        "  # end for\n",
        "\n",
        "  return p\n",
        "# end ProbSuccessV2"
      ],
      "metadata": {
        "id": "jaBgFVXEWtZW"
      },
      "execution_count": null,
      "outputs": []
    },
    {
      "cell_type": "markdown",
      "source": [
        "So now, let's see the end_turns in action, assuming we're trying to reach the goal of 20:"
      ],
      "metadata": {
        "id": "YMLjHikUO1dx"
      }
    },
    {
      "cell_type": "code",
      "source": [
        "goal = 20\n",
        "end_values = {}\n",
        "p = ProbSuccessV2(0, 0, goal, end_values, RollAgain20)\n",
        "\n",
        "print(f'Probability of Success for goal = {goal} is {p}.')\n",
        "print(end_values)"
      ],
      "metadata": {
        "colab": {
          "base_uri": "https://localhost:8080/"
        },
        "id": "MDhHw016O6VT",
        "outputId": "ec274d70-ef6c-45d4-8959-fd5442b31990"
      },
      "execution_count": null,
      "outputs": [
        {
          "output_type": "stream",
          "name": "stdout",
          "text": [
            "Probability of Success for goal = 20 is 0.3754591657987433.\n",
            "{20: 2618, 21: 4110, 22: 3836, 23: 3405, 24: 2729, 25: 1667}\n"
          ]
        }
      ]
    },
    {
      "cell_type": "markdown",
      "source": [
        "So now, let's try to solve the problem for larger goals, beyond 20.\n",
        "\n",
        "Looking at the results above, the expected number of turns needed to reach 20 is 2.66, and the expected number of turns needed to hit 10 is 1.69. So the expected number of turns required to reach 30 should be around 4.35, the sum of those two. Let's see..."
      ],
      "metadata": {
        "id": "vxDF9z1ZPkyn"
      }
    },
    {
      "cell_type": "code",
      "source": [
        "def ExpectedNumTurns(starting_score, goal, RollAgainFunction):\n",
        "\n",
        "  end_values = {}\n",
        "\n",
        "  p = ProbSuccessV2(starting_score, starting_score, goal, end_values, RollAgainFunction)\n",
        "  num_turns = TurnsToSuccess(p)\n",
        "\n",
        "  total = sum(end_values.values())\n",
        "  eNT = 0\n",
        "\n",
        "  for ev, count in end_values.items():\n",
        "    if ev >= goal:\n",
        "      eNT += (count / total) * num_turns\n",
        "    else:\n",
        "      eNT += (count / total) * (num_turns + ExpectedNumTurns(ev, goal, RollAgainFunction))\n",
        "    # end if\n",
        "  # end for\n",
        "\n",
        "  return eNT\n",
        "\n",
        "# end ExpectedNumTurns\n"
      ],
      "metadata": {
        "id": "tnvlv4snPpFh"
      },
      "execution_count": null,
      "outputs": []
    },
    {
      "cell_type": "code",
      "source": [
        "goal = 30\n",
        "\n",
        "nt = ExpectedNumTurns(0, 30, RollAgain20)\n",
        "print(f'Expected # of turns to reach {goal} is {nt}')\n"
      ],
      "metadata": {
        "colab": {
          "base_uri": "https://localhost:8080/"
        },
        "id": "mbOX8dV_gyt5",
        "outputId": "5b636060-62d6-4338-aef0-141ce4d2e6ea"
      },
      "execution_count": null,
      "outputs": [
        {
          "output_type": "stream",
          "name": "stdout",
          "text": [
            "Expected # of turns to reach 30 is 4.255948485421711\n"
          ]
        }
      ]
    },
    {
      "cell_type": "markdown",
      "source": [
        "Well, that's pretty close, let's check against the Monte Carlo that we did (way up above) ... we tried values from 10 to 100 in increments of 10, and we'd expect the calculated expected value to be relatively close to the mean across 100,000 simulated games."
      ],
      "metadata": {
        "id": "XkA-hfDigyGY"
      }
    },
    {
      "cell_type": "code",
      "source": [
        "for goal in goals:\n",
        "  eNT = ExpectedNumTurns(0, goal, RollAgain20)\n",
        "  mNT = pig_df[goal].mean()\n",
        "  ratio = eNT / mNT\n",
        "  print(f'Expected # of turns to reach {goal}: calculated = {eNT} simulated = {mNT} ratio = {ratio}')\n",
        "# end for\n"
      ],
      "metadata": {
        "colab": {
          "base_uri": "https://localhost:8080/"
        },
        "id": "nBZtTxovhMPw",
        "outputId": "40dd0c5f-02c0-4cbc-e14c-cf54fa109567"
      },
      "execution_count": null,
      "outputs": [
        {
          "output_type": "stream",
          "name": "stdout",
          "text": [
            "Expected # of turns to reach 10: calculated = 1.6936899341562945 simulated = 1.6917 ratio = 1.0011762925792367\n",
            "Expected # of turns to reach 20: calculated = 2.663266834066198 simulated = 2.6683 ratio = 0.9981137181224743\n",
            "Expected # of turns to reach 30: calculated = 4.255948485421711 simulated = 4.2927 ratio = 0.9914386016776646\n",
            "Expected # of turns to reach 40: calculated = 5.09319692738205 simulated = 5.1731 ratio = 0.9845541217803735\n",
            "Expected # of turns to reach 50: calculated = 6.755782982778677 simulated = 6.8444 ratio = 0.9870526244489914\n",
            "Expected # of turns to reach 60: calculated = 7.570614839016607 simulated = 7.6514 ratio = 0.9894417804606487\n",
            "Expected # of turns to reach 70: calculated = 8.930201924059826 simulated = 9.1968 ratio = 0.9710118654379596\n",
            "Expected # of turns to reach 80: calculated = 10.089428183922507 simulated = 10.2727 ratio = 0.9821593333712176\n",
            "Expected # of turns to reach 90: calculated = 11.134793502421534 simulated = 11.4906 ratio = 0.9690349940317767\n",
            "Expected # of turns to reach 100: calculated = 12.627217937905604 simulated = 12.8397 ratio = 0.9834511661413898\n"
          ]
        }
      ]
    },
    {
      "cell_type": "markdown",
      "source": [
        "Well, that's pretty close. One thing to notice is that the discrepancies appear higher for goals that are not a multiple of 20, especially 70 and 90. At this point, I don't know if the discrepancies are due to a flaw in the logic for calculating the expected value, an error in implementation, or an artefact e.g. of how Python handles floating point. For the purposes of this exercise, I'm going to call it a day: the expected number of turns needed to reach 100 points in one-player, one-die Pig is between 12 and 13, calculated to be 12.63 but slightly higher (12.8 + or - 0.1) in simulations."
      ],
      "metadata": {
        "id": "uuyJ6Rq0mXmu"
      }
    },
    {
      "cell_type": "markdown",
      "source": [
        "# Part 4 - Is 20 the optimal threshold?"
      ],
      "metadata": {
        "id": "4CT7xU8KkpiH"
      }
    },
    {
      "cell_type": "markdown",
      "source": [
        "Until now, we've been using \"> (n = 20)\" as the criteria for deciding to stop a roll. Are there any other values of n that perform better? Let's try n = 25."
      ],
      "metadata": {
        "id": "uiAib4VVlC-e"
      }
    },
    {
      "cell_type": "code",
      "source": [
        "# the RollAgain25 function makes a decision, as to whether to roll again or not (it's the player's choice)\n",
        "def RollAgain25(score, points, goal):\n",
        "\n",
        "  if ((points > 25) or ((score + points) >= goal)):\n",
        "    return False\n",
        "  else:\n",
        "    return True"
      ],
      "metadata": {
        "id": "aDLThk8b2Q5D"
      },
      "execution_count": null,
      "outputs": []
    },
    {
      "cell_type": "code",
      "source": [
        "goal = 100\n",
        "eNT = ExpectedNumTurns(0, goal, RollAgain25)\n",
        "print(f'Expected # of turns to reach {goal}: calculated = {eNT}')"
      ],
      "metadata": {
        "colab": {
          "base_uri": "https://localhost:8080/"
        },
        "id": "xESAooOT2iDr",
        "outputId": "ce51e234-f3c8-42a4-f2bb-611f1fe1581f"
      },
      "execution_count": null,
      "outputs": [
        {
          "output_type": "stream",
          "name": "stdout",
          "text": [
            "Expected # of turns to reach 100: calculated = 12.63982702152038\n"
          ]
        }
      ]
    },
    {
      "cell_type": "markdown",
      "source": [
        "Wow! That's really close, but very slightly higher. I wonder if the simulation is similarly close?"
      ],
      "metadata": {
        "id": "7bfz6tcI4vJD"
      }
    },
    {
      "cell_type": "code",
      "source": [
        "goals25 = np.arange(10, 101, 10)\n",
        "pig_dict25 = ExperimentPig(10_000, goals25, RollAgain25)\n",
        "pig_df25 = pd.DataFrame(pig_dict25)\n",
        "\n",
        "print('Mean')\n",
        "print(pig_df25.mean())\n",
        "print()\n",
        "print('Median')\n",
        "print(pig_df25.median())"
      ],
      "metadata": {
        "colab": {
          "base_uri": "https://localhost:8080/"
        },
        "id": "QzUaUj0N451E",
        "outputId": "bcdafe9a-487f-49dd-8ea4-2c318997d194"
      },
      "execution_count": null,
      "outputs": [
        {
          "output_type": "stream",
          "name": "stdout",
          "text": [
            "Mean\n",
            "10      1.7045\n",
            "20      2.6421\n",
            "30      4.5984\n",
            "40      5.3825\n",
            "50      6.4761\n",
            "60      8.3248\n",
            "70      9.0810\n",
            "80     10.3501\n",
            "90     11.9808\n",
            "100    12.8044\n",
            "dtype: float64\n",
            "\n",
            "Median\n",
            "10      1.0\n",
            "20      2.0\n",
            "30      4.0\n",
            "40      5.0\n",
            "50      6.0\n",
            "60      7.0\n",
            "70      8.0\n",
            "80      9.0\n",
            "90     11.0\n",
            "100    12.0\n",
            "dtype: float64\n"
          ]
        }
      ]
    },
    {
      "cell_type": "markdown",
      "source": [
        "OK, here we're getting a slightly *lower* mean, which means that 25 might perform better than 20, as a rule. But then again, this is a simulation of only 10,000 games, so there's some error bar on the value, the difference might not be statistically meaningful. What if we pitted the two rules against one another? For that, we'll need code that plays the two-player-game."
      ],
      "metadata": {
        "id": "WoFiaqZP6Khz"
      }
    },
    {
      "cell_type": "markdown",
      "source": [
        "But first: explaining the rules of the two-player game.\n",
        "\n",
        "The winner of the game is the player that reaches 100 points in the fewest number of turns. For now, for simplicity, we're going to ignore the state of the other player in the game in our roll decision function. If both players reach 100 points in the same number of turns, the game is a tie."
      ],
      "metadata": {
        "id": "gJDfjRck6u1J"
      }
    },
    {
      "cell_type": "code",
      "source": [
        "def PlayPig2Player(goal, playerAName, playerBName, RollAgainFunctionA, RollAgainFunctionB):\n",
        "\n",
        "  # first play PlayerA\n",
        "  score = 0\n",
        "  turns = 0\n",
        "\n",
        "  while score < goal:\n",
        "    turns += 1\n",
        "    points = TakeATurn(score, goal, RollAgainFunctionA)\n",
        "    score += points\n",
        "  # end while\n",
        "\n",
        "  turnsA = turns\n",
        "  # print(f'{playerAName} took {turnsA} turns')\n",
        "\n",
        "  # now play PlayerB\n",
        "  score = 0\n",
        "  turns = 0\n",
        "\n",
        "  while score < goal:\n",
        "    turns += 1\n",
        "    points = TakeATurn(score, goal, RollAgainFunctionB)\n",
        "    score += points\n",
        "  # end while\n",
        "\n",
        "  turnsB = turns\n",
        "  # print(f'{playerBName} took {turnsB} turns')\n",
        "\n",
        "  if (turnsA == turnsB):\n",
        "    return 'tie'\n",
        "  elif turnsA < turnsB:\n",
        "    return playerAName\n",
        "  else:\n",
        "    return playerBName\n",
        "  # end if\n",
        "# end PlayPig2Player"
      ],
      "metadata": {
        "id": "651_CrQO6kaW"
      },
      "execution_count": null,
      "outputs": []
    },
    {
      "cell_type": "markdown",
      "source": [
        "Ok, let's try that out:"
      ],
      "metadata": {
        "id": "xob2ngYt8iAT"
      }
    },
    {
      "cell_type": "code",
      "source": [
        "PlayPig2Player(100, \"Stop at 20\", \"Stop at 25\", RollAgain20, RollAgain25)"
      ],
      "metadata": {
        "colab": {
          "base_uri": "https://localhost:8080/",
          "height": 35
        },
        "id": "SUUi9zFa8kG9",
        "outputId": "4efe7002-787c-4911-bc8c-b6811abaed3b"
      },
      "execution_count": null,
      "outputs": [
        {
          "output_type": "execute_result",
          "data": {
            "text/plain": [
              "'Stop at 25'"
            ],
            "application/vnd.google.colaboratory.intrinsic+json": {
              "type": "string"
            }
          },
          "metadata": {},
          "execution_count": 25
        }
      ]
    },
    {
      "cell_type": "markdown",
      "source": [
        "Ok, so now let's have them play a whole bunch of games:"
      ],
      "metadata": {
        "id": "nd_pW67u-Ge7"
      }
    },
    {
      "cell_type": "code",
      "source": [
        "def ExperimentPig2Player(num_games, goal, playerAName, playerBName, RollAgainFunctionA, RollAgainFunctionB):\n",
        "\n",
        "  game_outcomes = {}\n",
        "\n",
        "  for i in range(0, num_games):\n",
        "    winner = PlayPig2Player(goal, playerAName, playerBName, RollAgainFunctionA, RollAgainFunctionB)\n",
        "    game_outcomes[winner] = game_outcomes.get(winner, 0) + 1\n",
        "  # end for\n",
        "\n",
        "  return game_outcomes\n",
        "# end ExperimentPig2Player\n",
        "\n",
        "num_games = 100_000\n",
        "game_outcomes = ExperimentPig2Player(num_games, 100, \"Stop at 20\", \"Stop at 25\", RollAgain20, RollAgain25)\n",
        "num_games_not_tied = num_games - game_outcomes['tie']\n",
        "print(f'Stop at 20 won {game_outcomes[\"Stop at 20\"]} or {game_outcomes[\"Stop at 20\"] / num_games_not_tied}')\n",
        "print(f'Stop at 25 won {game_outcomes[\"Stop at 25\"]} or {game_outcomes[\"Stop at 25\"] / num_games_not_tied}')\n",
        "print(f'Tie games: {game_outcomes[\"tie\"]}')\n"
      ],
      "metadata": {
        "colab": {
          "base_uri": "https://localhost:8080/"
        },
        "id": "QetV1kGK-TFT",
        "outputId": "b2601e5e-2f91-4696-b44c-a0f59a81e633"
      },
      "execution_count": null,
      "outputs": [
        {
          "output_type": "stream",
          "name": "stdout",
          "text": [
            "Stop at 20 won 45674 or 0.48689330220559235\n",
            "Stop at 25 won 48133 or 0.5131066977944077\n",
            "Tie games: 6193\n"
          ]
        }
      ]
    },
    {
      "cell_type": "markdown",
      "source": [
        "So this is interesting. Despite having a higher calculated expected value for the number of turns to reach 100 points, the \"stop at 25\" rule slightly outperforms \"stop at 20\". Perhaps because the shape of the distribution is not normal? A distribution where a higher percentage of the games have a lower value than the mean, at the cost of a few that extend into very large values... since it doesn't matter by how much you lose, it's better to use the probability distribution that is more heavilty populated by low values. Can we see this in a distribution? Let's compare the histogram at 25 with the histogram at 20:"
      ],
      "metadata": {
        "id": "E2_E3TRdv5m1"
      }
    }
  ]
}